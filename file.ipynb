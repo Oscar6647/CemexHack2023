{
 "cells": [
  {
   "cell_type": "code",
   "execution_count": 2,
   "metadata": {},
   "outputs": [
    {
     "ename": "ModuleNotFoundError",
     "evalue": "No module named 'ortools'",
     "output_type": "error",
     "traceback": [
      "\u001b[1;31m---------------------------------------------------------------------------\u001b[0m",
      "\u001b[1;31mModuleNotFoundError\u001b[0m                       Traceback (most recent call last)",
      "\u001b[1;32mc:\\Users\\jvela\\Downloads\\CemexHack2023\\Optimal_Routes.ipynb Cell 1\u001b[0m line \u001b[0;36m3\n\u001b[0;32m      <a href='vscode-notebook-cell:/c%3A/Users/jvela/Downloads/CemexHack2023/Optimal_Routes.ipynb#W0sZmlsZQ%3D%3D?line=0'>1</a>\u001b[0m \u001b[39mimport\u001b[39;00m \u001b[39mpandas\u001b[39;00m \u001b[39mas\u001b[39;00m \u001b[39mpd\u001b[39;00m\n\u001b[0;32m      <a href='vscode-notebook-cell:/c%3A/Users/jvela/Downloads/CemexHack2023/Optimal_Routes.ipynb#W0sZmlsZQ%3D%3D?line=1'>2</a>\u001b[0m \u001b[39mimport\u001b[39;00m \u001b[39mnumpy\u001b[39;00m \u001b[39mas\u001b[39;00m \u001b[39mnp\u001b[39;00m\n\u001b[1;32m----> <a href='vscode-notebook-cell:/c%3A/Users/jvela/Downloads/CemexHack2023/Optimal_Routes.ipynb#W0sZmlsZQ%3D%3D?line=2'>3</a>\u001b[0m \u001b[39mfrom\u001b[39;00m \u001b[39mortools\u001b[39;00m\u001b[39m.\u001b[39;00m\u001b[39mconstraint_solver\u001b[39;00m \u001b[39mimport\u001b[39;00m routing_enums_pb2\n\u001b[0;32m      <a href='vscode-notebook-cell:/c%3A/Users/jvela/Downloads/CemexHack2023/Optimal_Routes.ipynb#W0sZmlsZQ%3D%3D?line=3'>4</a>\u001b[0m \u001b[39mfrom\u001b[39;00m \u001b[39mortools\u001b[39;00m\u001b[39m.\u001b[39;00m\u001b[39mconstraint_solver\u001b[39;00m \u001b[39mimport\u001b[39;00m pywrapcp\n\u001b[0;32m      <a href='vscode-notebook-cell:/c%3A/Users/jvela/Downloads/CemexHack2023/Optimal_Routes.ipynb#W0sZmlsZQ%3D%3D?line=4'>5</a>\u001b[0m \u001b[39mfrom\u001b[39;00m \u001b[39mmath\u001b[39;00m \u001b[39mimport\u001b[39;00m radians, sin, cos, sqrt, atan2\n",
      "\u001b[1;31mModuleNotFoundError\u001b[0m: No module named 'ortools'"
     ]
    }
   ],
   "source": [
    "import pandas as pd\n",
    "import numpy as np\n",
    "from ortools.constraint_solver import routing_enums_pb2\n",
    "from ortools.constraint_solver import pywrapcp\n",
    "from math import radians, sin, cos, sqrt, atan2"
   ]
  },
  {
   "cell_type": "code",
   "execution_count": null,
   "metadata": {},
   "outputs": [],
   "source": [
    "def haversine(lat1, lon1, lat2, lon2):\n",
    "    # Convert latitude and longitude from degrees to radians\n",
    "    lat1, lon1, lat2, lon2 = map(radians, [lat1, lon1, lat2, lon2])\n",
    "\n",
    "    # Haversine formula\n",
    "    dlat = lat2 - lat1\n",
    "    dlon = lon2 - lon1\n",
    "    a = sin(dlat / 2) ** 2 + cos(lat1) * cos(lat2) * sin(dlon / 2) ** 2\n",
    "    c = 2 * atan2(sqrt(a), sqrt(1 - a))\n",
    "\n",
    "    # Radius of Earth in kilometers (mean value)\n",
    "    R = 6371\n",
    "\n",
    "    # Calculate the distance\n",
    "    dist = round(R * c, 0)\n",
    "    distance = int(dist)\n",
    "\n",
    "    return distance"
   ]
  },
  {
   "cell_type": "code",
   "execution_count": null,
   "metadata": {},
   "outputs": [],
   "source": [
    "def create_distance_matrix(locations):\n",
    "    num_locations = len(locations)\n",
    "    distance_matrix = [[0] * num_locations for _ in range(num_locations)]\n",
    "\n",
    "    for i in range(num_locations):\n",
    "        for j in range(i + 1, num_locations):\n",
    "            lat1, lon1 = locations[i]\n",
    "            lat2, lon2 = locations[j]\n",
    "            distance = haversine(lat1, lon1, lat2, lon2)\n",
    "            distance_matrix[i][j] = distance\n",
    "            distance_matrix[j][i] = distance\n",
    "\n",
    "    return distance_matrix"
   ]
  },
  {
   "cell_type": "code",
   "execution_count": null,
   "metadata": {},
   "outputs": [],
   "source": [
    "def create_data_model(locations, vehicles):\n",
    "    \"\"\"Stores the data for the problem.\"\"\"\n",
    "    data = {}\n",
    "    data[\"distance_matrix\"] = create_distance_matrix(locations)\n",
    "    data[\"num_vehicles\"] = vehicles\n",
    "    data[\"depot\"] = 0\n",
    "    return data"
   ]
  },
  {
   "cell_type": "code",
   "execution_count": null,
   "metadata": {},
   "outputs": [],
   "source": [
    "def solucion(data, manager, routing, solution):\n",
    "    \"\"\"Returns the solution as well as printing it on console.\"\"\"\n",
    "    max_route_distance = 0\n",
    "    all_routes = []\n",
    "\n",
    "    for vehicle_id in range(data[\"num_vehicles\"]):\n",
    "        index = routing.Start(vehicle_id)\n",
    "        route_nodes = []  # List to store nodes visited by the current vehicle\n",
    "        route_distance = 0\n",
    "\n",
    "        while not routing.IsEnd(index):\n",
    "            node = manager.IndexToNode(index)\n",
    "            route_nodes.append(node)\n",
    "\n",
    "            previous_index = index\n",
    "            index = solution.Value(routing.NextVar(index))\n",
    "            route_distance += routing.GetArcCostForVehicle(previous_index, index, vehicle_id)\n",
    "\n",
    "        node = manager.IndexToNode(index)\n",
    "        route_nodes.append(node)\n",
    "\n",
    "        # Add the current route to the list of all routes\n",
    "        all_routes.append(route_nodes)\n",
    "\n",
    "        # Print information about the current route\n",
    "        print(f\"Recorrido para el vehiculo {vehicle_id}:\")\n",
    "        print(\" -> \".join(map(str, route_nodes)))\n",
    "        print(f\"Distance of the route: {route_distance}m\\n\")\n",
    "\n",
    "        max_route_distance = max(route_distance, max_route_distance)\n",
    "\n",
    "    print(f\"Maximum of the route distances: {max_route_distance}m\")\n",
    "\n",
    "    return all_routes"
   ]
  },
  {
   "cell_type": "code",
   "execution_count": null,
   "metadata": {},
   "outputs": [
    {
     "name": "stdout",
     "output_type": "stream",
     "text": [
      "Recorrido para el vehiculo 0:\n",
      "0 -> 1 -> 0\n",
      "Distance of the route: 234m\n",
      "\n",
      "Maximum of the route distances: 234m\n",
      "All Routes: [[0, 1, 0]]\n"
     ]
    }
   ],
   "source": [
    "def main():\n",
    "    \"\"\"Entry point of the program.\"\"\"\n",
    "    # Get input for the number of places and their coordinates\n",
    "    num_places = int(input(\"Ingresa el numero de lugares: \"))\n",
    "    num_vehicles = int(input(\"Ingresa el numero de vehiculos: \"))\n",
    "    locations = []\n",
    "\n",
    "    for i in range(num_places):\n",
    "        lat = float(input(f\"Latitude  {i + 1}: \"))\n",
    "        lon = float(input(f\"Longitude {i + 1}: \"))\n",
    "        locations.append((lat, lon))\n",
    "\n",
    "    # Instantiate the data problem.\n",
    "    data = create_data_model(locations, num_vehicles)\n",
    "\n",
    "    # Create the routing index manager.\n",
    "    manager = pywrapcp.RoutingIndexManager(\n",
    "        len(data[\"distance_matrix\"]), data[\"num_vehicles\"], data[\"depot\"]\n",
    "    )\n",
    "\n",
    "    # Create Routing Model.\n",
    "    routing = pywrapcp.RoutingModel(manager)\n",
    "\n",
    "    # Create and register a transit callback.\n",
    "    def distance_callback(from_index, to_index):\n",
    "        \"\"\"Returns the distance between the two nodes.\"\"\"\n",
    "        # Convert from routing variable Index to distance matrix NodeIndex.\n",
    "        from_node = manager.IndexToNode(from_index)\n",
    "        to_node = manager.IndexToNode(to_index)\n",
    "        return data[\"distance_matrix\"][from_node][to_node]\n",
    "\n",
    "    transit_callback_index = routing.RegisterTransitCallback(distance_callback)\n",
    "\n",
    "    # Define cost of each arc.\n",
    "    routing.SetArcCostEvaluatorOfAllVehicles(transit_callback_index)\n",
    "\n",
    "    # Add Distance constraint.\n",
    "    dimension_name = \"Distance\"\n",
    "    routing.AddDimension(\n",
    "        transit_callback_index,\n",
    "        0,  \n",
    "        3000,  \n",
    "        True,  \n",
    "        dimension_name,\n",
    "    )\n",
    "    distance_dimension = routing.GetDimensionOrDie(dimension_name)\n",
    "    distance_dimension.SetGlobalSpanCostCoefficient(100)\n",
    "\n",
    "    # Setting first solution heuristic.\n",
    "    search_parameters = pywrapcp.DefaultRoutingSearchParameters()\n",
    "    search_parameters.first_solution_strategy = (\n",
    "        routing_enums_pb2.FirstSolutionStrategy.PATH_CHEAPEST_ARC\n",
    "    )\n",
    "\n",
    "    # Solve the problem.\n",
    "    solution = routing.SolveWithParameters(search_parameters)\n",
    "\n",
    "    # Print solution on console and return all_routes.\n",
    "    if solution:\n",
    "        all_routes = solucion(data, manager, routing, solution)\n",
    "        # Now you can use the 'all_routes' variable in the rest of your code.\n",
    "        print(\"All Routes:\", all_routes)\n",
    "    else:\n",
    "        print(\"No solution found !\")\n",
    "\n",
    "if __name__ == \"__main__\":\n",
    "    main()"
   ]
  }
 ],
 "metadata": {
  "kernelspec": {
   "display_name": "base",
   "language": "python",
   "name": "python3"
  },
  "language_info": {
   "codemirror_mode": {
    "name": "ipython",
    "version": 3
   },
   "file_extension": ".py",
   "mimetype": "text/x-python",
   "name": "python",
   "nbconvert_exporter": "python",
   "pygments_lexer": "ipython3",
   "version": "3.11.6"
  }
 },
 "nbformat": 4,
 "nbformat_minor": 2
}
